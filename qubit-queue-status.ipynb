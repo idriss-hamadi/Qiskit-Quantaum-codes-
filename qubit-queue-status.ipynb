{
 "cells": [
  {
   "cell_type": "code",
   "execution_count": 4,
   "id": "0b87bc88-37ff-4540-8191-b378b57b0a0f",
   "metadata": {
    "tags": []
   },
   "outputs": [],
   "source": [
    "# Importing standard Qiskit libraries\n",
    "from qiskit import QuantumCircuit, transpile\n",
    "from qiskit.tools.jupyter import *\n",
    "from qiskit.visualization import *\n",
    "from ibm_quantum_widgets import *\n",
    "from qiskit_aer import AerSimulator\n",
    "\n",
    "# qiskit-ibmq-provider has been deprecated.\n",
    "# Please see the Migration Guides in https://ibm.biz/provider_migration_guide for more detail.\n",
    "from qiskit_ibm_runtime import QiskitRuntimeService, Sampler, Estimator, Session, Options\n",
    "\n",
    "# Loading your IBM Quantum account(s)\n",
    "service = QiskitRuntimeService(channel=\"ibm_quantum\")\n",
    "\n",
    "# Invoke a primitive inside a session. For more details see https://qiskit.org/documentation/partners/qiskit_ibm_runtime/tutorials.html\n",
    "# with Session(backend=service.backend(\"ibmq_qasm_simulator\")):\n",
    "#     result = Sampler().run(circuits).result()"
   ]
  },
  {
   "cell_type": "code",
   "execution_count": 8,
   "id": "ca4e901e-8973-4fc7-89f0-d21252b43dcc",
   "metadata": {
    "tags": []
   },
   "outputs": [
    {
     "name": "stderr",
     "output_type": "stream",
     "text": [
      "configrc.store_credentials:WARNING:2023-03-27 23:12:21,089: Credentials already present. Set overwrite=True to overwrite.\n"
     ]
    },
    {
     "data": {
      "text/plain": [
       "<AccountProvider for IBMQ(hub='ibm-q', group='open', project='main')>"
      ]
     },
     "execution_count": 8,
     "metadata": {},
     "output_type": "execute_result"
    }
   ],
   "source": [
    "from qiskit import *\n",
    "IBMQ.save_account(open(\"token.txt\",\"r\").read())  #signing in using my token in my txt file\n",
    "IBMQ.load_account() #lading account\n"
   ]
  },
  {
   "cell_type": "code",
   "execution_count": 9,
   "id": "12907759-800f-471b-b3fb-33e17d7a86ff",
   "metadata": {
    "tags": []
   },
   "outputs": [
    {
     "data": {
      "text/plain": [
       "[AerSimulator('aer_simulator'),\n",
       " AerSimulator('aer_simulator_statevector'),\n",
       " AerSimulator('aer_simulator_density_matrix'),\n",
       " AerSimulator('aer_simulator_stabilizer'),\n",
       " AerSimulator('aer_simulator_matrix_product_state'),\n",
       " AerSimulator('aer_simulator_extended_stabilizer'),\n",
       " AerSimulator('aer_simulator_unitary'),\n",
       " AerSimulator('aer_simulator_superop'),\n",
       " QasmSimulator('qasm_simulator'),\n",
       " StatevectorSimulator('statevector_simulator'),\n",
       " UnitarySimulator('unitary_simulator'),\n",
       " PulseSimulator('pulse_simulator')]"
      ]
     },
     "execution_count": 9,
     "metadata": {},
     "output_type": "execute_result"
    }
   ],
   "source": [
    "Aer.backends() #show simulators each is special"
   ]
  },
  {
   "cell_type": "code",
   "execution_count": 10,
   "id": "72a2021b-4158-4775-ad1a-00105b6cfe62",
   "metadata": {
    "tags": []
   },
   "outputs": [
    {
     "data": {
      "text/plain": [
       "[<IBMQSimulator('ibmq_qasm_simulator') from IBMQ(hub='ibm-q', group='open', project='main')>,\n",
       " <IBMQBackend('ibmq_lima') from IBMQ(hub='ibm-q', group='open', project='main')>,\n",
       " <IBMQBackend('ibmq_belem') from IBMQ(hub='ibm-q', group='open', project='main')>,\n",
       " <IBMQBackend('ibmq_quito') from IBMQ(hub='ibm-q', group='open', project='main')>,\n",
       " <IBMQSimulator('simulator_statevector') from IBMQ(hub='ibm-q', group='open', project='main')>,\n",
       " <IBMQSimulator('simulator_mps') from IBMQ(hub='ibm-q', group='open', project='main')>,\n",
       " <IBMQSimulator('simulator_extended_stabilizer') from IBMQ(hub='ibm-q', group='open', project='main')>,\n",
       " <IBMQSimulator('simulator_stabilizer') from IBMQ(hub='ibm-q', group='open', project='main')>,\n",
       " <IBMQBackend('ibmq_jakarta') from IBMQ(hub='ibm-q', group='open', project='main')>,\n",
       " <IBMQBackend('ibmq_manila') from IBMQ(hub='ibm-q', group='open', project='main')>,\n",
       " <IBMQBackend('ibm_lagos') from IBMQ(hub='ibm-q', group='open', project='main')>,\n",
       " <IBMQBackend('ibm_nairobi') from IBMQ(hub='ibm-q', group='open', project='main')>,\n",
       " <IBMQBackend('ibm_perth') from IBMQ(hub='ibm-q', group='open', project='main')>,\n",
       " <IBMQBackend('ibm_oslo') from IBMQ(hub='ibm-q', group='open', project='main')>]"
      ]
     },
     "execution_count": 10,
     "metadata": {},
     "output_type": "execute_result"
    }
   ],
   "source": [
    "provider=IBMQ.get_provider(\"ibm-q\") #show all the actual quantaum computers and simulators that are avaliable\n",
    "provider.backends()"
   ]
  },
  {
   "cell_type": "code",
   "execution_count": 11,
   "id": "25f5950d-dc0b-4d8f-8cb1-e75b618acc8f",
   "metadata": {
    "tags": []
   },
   "outputs": [
    {
     "name": "stdout",
     "output_type": "stream",
     "text": [
      "None\n",
      "<qiskit.providers.models.backendproperties.BackendProperties object at 0x7fa79ac6e500>\n",
      "<qiskit.providers.models.backendproperties.BackendProperties object at 0x7fa79adb04f0>\n",
      "<qiskit.providers.models.backendproperties.BackendProperties object at 0x7fa79ae33ac0>\n",
      "None\n",
      "None\n",
      "None\n",
      "None\n",
      "<qiskit.providers.models.backendproperties.BackendProperties object at 0x7fa79adfdba0>\n",
      "<qiskit.providers.models.backendproperties.BackendProperties object at 0x7fa79ae3ff70>\n",
      "<qiskit.providers.models.backendproperties.BackendProperties object at 0x7fa79ae66320>\n",
      "<qiskit.providers.models.backendproperties.BackendProperties object at 0x7fa79abb88e0>\n",
      "<qiskit.providers.models.backendproperties.BackendProperties object at 0x7fa79abf2e60>\n",
      "<qiskit.providers.models.backendproperties.BackendProperties object at 0x7fa79ac29450>\n"
     ]
    }
   ],
   "source": [
    "for backend in provider.backends(): #show properties \n",
    "    print(backend.properties())"
   ]
  },
  {
   "cell_type": "code",
   "execution_count": 12,
   "id": "0a8aa434-d089-411f-abc8-0290816498cf",
   "metadata": {
    "tags": []
   },
   "outputs": [
    {
     "name": "stdout",
     "output_type": "stream",
     "text": [
      "1-ibmq_qasm_simulator : there is 5 waiting jobs in the queue and it is a simulator\n",
      "2-ibmq_lima : there is 12 waiting jobs in the queue and it has 5 qubits\n",
      "3-ibmq_belem : there is 11 waiting jobs in the queue and it has 5 qubits\n",
      "4-ibmq_quito : there is 21 waiting jobs in the queue and it has 5 qubits\n",
      "5-simulator_statevector : there is 5 waiting jobs in the queue and it is a simulator\n",
      "6-simulator_mps : there is 5 waiting jobs in the queue and it is a simulator\n",
      "7-simulator_extended_stabilizer : there is 5 waiting jobs in the queue and it is a simulator\n",
      "8-simulator_stabilizer : there is 5 waiting jobs in the queue and it is a simulator\n",
      "9-ibmq_jakarta : there is 556 waiting jobs in the queue and it has 7 qubits\n",
      "10-ibmq_manila : there is 51 waiting jobs in the queue and it has 5 qubits\n",
      "11-ibm_lagos : there is 325 waiting jobs in the queue and it has 7 qubits\n",
      "12-ibm_nairobi : there is 102 waiting jobs in the queue and it has 7 qubits\n",
      "13-ibm_perth : there is 43 waiting jobs in the queue and it has 7 qubits\n",
      "14-ibm_oslo : there is 162 waiting jobs in the queue and it has 7 qubits\n"
     ]
    }
   ],
   "source": [
    "i=0 #code to see if it is simulator or not and how many pending jobs are there\n",
    "for backend in provider.backends():\n",
    "    i+=1\n",
    "    try:\n",
    "        qubit_count=len(backend.properties().qubits)\n",
    "    except:\n",
    "        qubit_count=\"simulated\"\n",
    "    if(qubit_count==\"simulated\"):    \n",
    "        print(f\"{i}-{backend.name()} : there is {backend.status().pending_jobs} waiting jobs in the queue and it is a simulator\")\n",
    "    else:\n",
    "        print(f\"{i}-{backend.name()} : there is {backend.status().pending_jobs} waiting jobs in the queue and it has {qubit_count} qubits\")\n"
   ]
  }
 ],
 "metadata": {
  "kernelspec": {
   "display_name": "Python 3 (ipykernel)",
   "language": "python",
   "name": "python3"
  },
  "language_info": {
   "codemirror_mode": {
    "name": "ipython",
    "version": 3
   },
   "file_extension": ".py",
   "mimetype": "text/x-python",
   "name": "python",
   "nbconvert_exporter": "python",
   "pygments_lexer": "ipython3",
   "version": "3.10.8"
  },
  "widgets": {
   "application/vnd.jupyter.widget-state+json": {
    "state": {
     "04237840d46444edb518a9176a3b6762": {
      "model_module": "@jupyter-widgets/base",
      "model_module_version": "2.0.0",
      "model_name": "LayoutModel",
      "state": {}
     },
     "07d9b2e178b34e1ca0213651e3127137": {
      "model_module": "@jupyter-widgets/controls",
      "model_module_version": "2.0.0",
      "model_name": "HTMLModel",
      "state": {
       "layout": "IPY_MODEL_50c2bd974abc473a872c90dcce411e7d",
       "style": "IPY_MODEL_c229042db61a46608da38e32c81e177b",
       "value": "<h5>Backend</h5>"
      }
     },
     "16048be6adbf46b59ab3378faa15a523": {
      "model_module": "@jupyter-widgets/controls",
      "model_module_version": "2.0.0",
      "model_name": "HTMLStyleModel",
      "state": {
       "description_width": "",
       "font_size": null,
       "text_color": null
      }
     },
     "222c4ef25f9b405996a5396bff3691a4": {
      "model_module": "@jupyter-widgets/controls",
      "model_module_version": "2.0.0",
      "model_name": "HTMLModel",
      "state": {
       "layout": "IPY_MODEL_8828dee3cbbf474c8c217069776fec3f",
       "style": "IPY_MODEL_e0d33a19fc9143c0be8af6df20da8e0d",
       "value": "<p style='font-family: IBM Plex Sans, Arial, Helvetica, sans-serif; font-size: 20px; font-weight: medium;'>Circuit Properties</p>"
      }
     },
     "2e02d298cbef45038d6138099e59e70c": {
      "model_module": "@jupyter-widgets/base",
      "model_module_version": "2.0.0",
      "model_name": "LayoutModel",
      "state": {
       "width": "190px"
      }
     },
     "413ef230e5ea443f9692d0274f3a4d0f": {
      "model_module": "@jupyter-widgets/controls",
      "model_module_version": "2.0.0",
      "model_name": "HTMLStyleModel",
      "state": {
       "description_width": "",
       "font_size": null,
       "text_color": null
      }
     },
     "4f2fdb89788b4e1f814471f17c5f4cc3": {
      "model_module": "@jupyter-widgets/controls",
      "model_module_version": "2.0.0",
      "model_name": "ButtonModel",
      "state": {
       "button_style": "primary",
       "description": "Clear",
       "layout": "IPY_MODEL_7e949bb51cfd406ebccf2b34fb46a27d",
       "style": "IPY_MODEL_7e50c3bfb17f4bad853ffb4bcb08c254",
       "tooltip": null
      }
     },
     "50c2bd974abc473a872c90dcce411e7d": {
      "model_module": "@jupyter-widgets/base",
      "model_module_version": "2.0.0",
      "model_name": "LayoutModel",
      "state": {
       "width": "145px"
      }
     },
     "566a6f8e357448fca161dbeb9ef51428": {
      "model_module": "@jupyter-widgets/controls",
      "model_module_version": "2.0.0",
      "model_name": "HTMLModel",
      "state": {
       "layout": "IPY_MODEL_cb005b939e5b4cc992eb8fa0a0cd3984",
       "style": "IPY_MODEL_ec421b43eeec474eae0c5510b230f859",
       "value": "<h5>Status</h5>"
      }
     },
     "7154662ba65946d8bafe0d5f6ffeea22": {
      "model_module": "@jupyter-widgets/base",
      "model_module_version": "2.0.0",
      "model_name": "LayoutModel",
      "state": {
       "margin": "0px 0px 0px 37px",
       "width": "600px"
      }
     },
     "7e50c3bfb17f4bad853ffb4bcb08c254": {
      "model_module": "@jupyter-widgets/controls",
      "model_module_version": "2.0.0",
      "model_name": "ButtonStyleModel",
      "state": {
       "font_family": null,
       "font_size": null,
       "font_style": null,
       "font_variant": null,
       "font_weight": null,
       "text_color": null,
       "text_decoration": null
      }
     },
     "7e949bb51cfd406ebccf2b34fb46a27d": {
      "model_module": "@jupyter-widgets/base",
      "model_module_version": "2.0.0",
      "model_name": "LayoutModel",
      "state": {
       "grid_area": "right",
       "padding": "0px 0px 0px 0px",
       "width": "70px"
      }
     },
     "7f833f4edcfb4b30971290c635e94f2a": {
      "model_module": "@jupyter-widgets/controls",
      "model_module_version": "2.0.0",
      "model_name": "HTMLModel",
      "state": {
       "layout": "IPY_MODEL_04237840d46444edb518a9176a3b6762",
       "style": "IPY_MODEL_16048be6adbf46b59ab3378faa15a523",
       "value": "<h5>Message</h5>"
      }
     },
     "8828dee3cbbf474c8c217069776fec3f": {
      "model_module": "@jupyter-widgets/base",
      "model_module_version": "2.0.0",
      "model_name": "LayoutModel",
      "state": {
       "margin": "0px 0px 10px 0px"
      }
     },
     "99f504cf319c4a3497212e56faaca73c": {
      "model_module": "@jupyter-widgets/base",
      "model_module_version": "2.0.0",
      "model_name": "LayoutModel",
      "state": {
       "width": "70px"
      }
     },
     "b8f0e77022be490b834e7ab71c170d16": {
      "model_module": "@jupyter-widgets/base",
      "model_module_version": "2.0.0",
      "model_name": "LayoutModel",
      "state": {
       "grid_template_areas": "\n                                       \". . . . right \"\n                                        ",
       "grid_template_columns": "20% 20% 20% 20% 20%",
       "width": "100%"
      }
     },
     "c229042db61a46608da38e32c81e177b": {
      "model_module": "@jupyter-widgets/controls",
      "model_module_version": "2.0.0",
      "model_name": "HTMLStyleModel",
      "state": {
       "description_width": "",
       "font_size": null,
       "text_color": null
      }
     },
     "c3150c11266940a8b6521845bfc2815c": {
      "model_module": "@jupyter-widgets/controls",
      "model_module_version": "2.0.0",
      "model_name": "GridBoxModel",
      "state": {
       "children": [
        "IPY_MODEL_4f2fdb89788b4e1f814471f17c5f4cc3"
       ],
       "layout": "IPY_MODEL_b8f0e77022be490b834e7ab71c170d16"
      }
     },
     "c3f5e465f5e14fb790b6ed38373494d3": {
      "model_module": "@jupyter-widgets/controls",
      "model_module_version": "2.0.0",
      "model_name": "HTMLStyleModel",
      "state": {
       "description_width": "",
       "font_size": null,
       "text_color": null
      }
     },
     "cb005b939e5b4cc992eb8fa0a0cd3984": {
      "model_module": "@jupyter-widgets/base",
      "model_module_version": "2.0.0",
      "model_name": "LayoutModel",
      "state": {
       "width": "95px"
      }
     },
     "d131c4592e554ee59b93112352778465": {
      "model_module": "@jupyter-widgets/controls",
      "model_module_version": "2.0.0",
      "model_name": "HTMLModel",
      "state": {
       "layout": "IPY_MODEL_99f504cf319c4a3497212e56faaca73c",
       "style": "IPY_MODEL_c3f5e465f5e14fb790b6ed38373494d3",
       "value": "<h5>Queue</h5>"
      }
     },
     "de0bb6139a9c41dca85afaa105e903e0": {
      "model_module": "@jupyter-widgets/controls",
      "model_module_version": "2.0.0",
      "model_name": "HTMLModel",
      "state": {
       "layout": "IPY_MODEL_2e02d298cbef45038d6138099e59e70c",
       "style": "IPY_MODEL_413ef230e5ea443f9692d0274f3a4d0f",
       "value": "<h5>Job ID</h5>"
      }
     },
     "e0d33a19fc9143c0be8af6df20da8e0d": {
      "model_module": "@jupyter-widgets/controls",
      "model_module_version": "2.0.0",
      "model_name": "HTMLStyleModel",
      "state": {
       "description_width": "",
       "font_size": null,
       "text_color": null
      }
     },
     "e957d6177df1417d8fb246f06796abfd": {
      "model_module": "@jupyter-widgets/controls",
      "model_module_version": "2.0.0",
      "model_name": "HBoxModel",
      "state": {
       "children": [
        "IPY_MODEL_de0bb6139a9c41dca85afaa105e903e0",
        "IPY_MODEL_07d9b2e178b34e1ca0213651e3127137",
        "IPY_MODEL_566a6f8e357448fca161dbeb9ef51428",
        "IPY_MODEL_d131c4592e554ee59b93112352778465",
        "IPY_MODEL_7f833f4edcfb4b30971290c635e94f2a"
       ],
       "layout": "IPY_MODEL_7154662ba65946d8bafe0d5f6ffeea22"
      }
     },
     "ec421b43eeec474eae0c5510b230f859": {
      "model_module": "@jupyter-widgets/controls",
      "model_module_version": "2.0.0",
      "model_name": "HTMLStyleModel",
      "state": {
       "description_width": "",
       "font_size": null,
       "text_color": null
      }
     }
    },
    "version_major": 2,
    "version_minor": 0
   }
  }
 },
 "nbformat": 4,
 "nbformat_minor": 5
}
